{
 "cells": [
  {
   "cell_type": "code",
   "execution_count": 5,
   "id": "2f66be2d",
   "metadata": {},
   "outputs": [
    {
     "name": "stdout",
     "output_type": "stream",
     "text": [
      "standard calculater\n",
      "Exiting calculater\n",
      "developed by:ekram\n"
     ]
    }
   ],
   "source": [
    "def calculater(): \n",
    "    print(\"standard calculater\")\n",
    "    \n",
    "    try:\n",
    "        while True:\n",
    "            op= input(\"enter the operation[/,*,-,+,** and exit]\") \n",
    "            if op.lower().strip()==\"exit\":\n",
    "                print(\"Exiting calculater\")\n",
    "                break\n",
    "            list_op= {'+','-','/','*','**'}\n",
    "            if op not in list_op:\n",
    "                print(\"please the correct op\")\n",
    "                continue\n",
    "            numbers = []\n",
    "            while True:\n",
    "                number=input(\"please enter the number or = sign to calculater\")\n",
    "                if number == \"=\":\n",
    "                    if len(numbers)<2:\n",
    "                        print(\"please enter atleast 2 numbers\")\n",
    "                        continue\n",
    "                    break\n",
    "                try:\n",
    "                    num = float(number)\n",
    "                    numbers.append(num)\n",
    "                except ValueError:\n",
    "                    print(\"pleas enter only number\")\n",
    "                    continue\n",
    "            \"\"\"performing different arthimetic operations after performing \n",
    "            arthimetic operations we have to store the result on some variable\"\"\"\n",
    "            if op == \"+\":\n",
    "                result= numbers[0]\n",
    "                for item in numbers[1:]:\n",
    "                    result = result + item\n",
    "                print(\"+\".join(map(str,numbers)) + f\" ={result}\")\n",
    "            elif op =='*':\n",
    "                result= numbers[0]\n",
    "                for item in numbers[1:]:\n",
    "                    result=result*item \n",
    "                print(\"*\".join(map(str,numbers)) + f\"={result}\")\n",
    "            elif op ==\"/\":\n",
    "                result=numbers[0]\n",
    "                try:\n",
    "                    for item in numbers[1:]:\n",
    "                        if item ==0:\n",
    "                            raise ZeroDivisionError()\n",
    "                        result =result /item\n",
    "                    print(\"/\".join(map(str,numbers)) + f\" = {result}\")\n",
    "                except ZeroDivisionError:\n",
    "                    print(\"denominater can not be zero\")\n",
    "                    continue\n",
    "                        \n",
    "            elif op ==\"-\":\n",
    "                result =numbers[0]\n",
    "                for item in numbers[1:]:\n",
    "                    result =result - item \n",
    "                print(\" - \".join(map(str,numbers)) + f\" = {result}\")\n",
    "            elif op  == \"**\":\n",
    "                result = numbers[0]\n",
    "                for item in numbers[1:]:\n",
    "                    result = result ** item \n",
    "                print(\"**\". join(map(str,numbers)) + f\" = {result}\")               \n",
    "    except Exception as e:\n",
    "        print(\"operation failed! {e}\")\n",
    "    print(\"developed by:ekram\")\n",
    "calculater()"
   ]
  }
 ],
 "metadata": {
  "kernelspec": {
   "display_name": "Python 3",
   "language": "python",
   "name": "python3"
  },
  "language_info": {
   "codemirror_mode": {
    "name": "ipython",
    "version": 3
   },
   "file_extension": ".py",
   "mimetype": "text/x-python",
   "name": "python",
   "nbconvert_exporter": "python",
   "pygments_lexer": "ipython3",
   "version": "3.13.5"
  }
 },
 "nbformat": 4,
 "nbformat_minor": 5
}
